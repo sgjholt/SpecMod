{
 "cells": [
  {
   "cell_type": "markdown",
   "metadata": {},
   "source": [
    "# SpecMod Tutorial Notebook\n",
    "\n",
    "This notebook is intended to guide the user on how to: \n",
    "\n",
    "1. preprocess data for input to specmod\n",
    "2. calculate spectra for modeling\n",
    "3. model earthquake spectra (although it may still be used outside of earthquake sources)"
   ]
  },
  {
   "cell_type": "markdown",
   "metadata": {},
   "source": [
    "## Pre Processing Module Imports\n",
    "For the calculation of spectra, SpecMod requires two ObsPy streams:\n",
    "1. signal\n",
    "2. noise\n",
    "\n",
    "It requires the user to cut their waveforms for their specific needs e.g. 'n' second P-phase window and 'x' seconds of window of pre-signal noise. \n",
    "\n",
    "It is up to you to cut them, some things to consider are:\n",
    "\n",
    "1. what phase is required - P or S?\n",
    "2. what is the most appropriate channel (e.g. vertical (Z) for P, transverse (T) or east/west (E/W) for S)\n",
    "3. do you trust your picks - are they real / theoretical - what are rough errors?\n",
    "4. how many seconds of noise do you want - pre or post signal?\n",
    "5. do I need to add station specific time shifts - is one station off consistently?\n",
    "6. do I need to make my windows slightly larger to account for errors in location/timing/picking?\n",
    "\n",
    "I have provided some basic tools, but you do not need to use them at all if you don't want to! It is only required that each trace in each stream has the following metadata (set *MANUALLY*) in their .stats dictionary:\n",
    "\n",
    "    1. tr.stats['dep'] = depth (kilometers)\n",
    "    2. tr.stats['olon'] = origin longitude (decimal degrees)\n",
    "    3. tr.stats['olat'] = origin latitude (decimal degrees)\n",
    "    4. tr.stats['olat'] = origin latitude (decimal degrees)\n",
    "    4. tr.stats['slon'] = station longitude (decimal degrees)\n",
    "    5. tr.stats['slat'] = station latitude (decimal degrees)\n",
    "    6. tr.stats['selv'] = station elevation (meters)\n",
    "    7. tr.stats['repi'] = epicentral distance (source-reciever) (kilometers)\n",
    "    6. tr.stats['rhyp'] = hypocentral distance (source-reciever) (kilometers)"
   ]
  },
  {
   "cell_type": "code",
   "execution_count": 1,
   "metadata": {},
   "outputs": [],
   "source": [
    "import os\n",
    "os.chdir(\"../\")\n",
    "import specmod.utils as ut\n",
    "import specmod.PreProcess as pre\n",
    "from obspy import read, read_inventory, UTCDateTime\n",
    "os.chdir(\"Tutorial\")"
   ]
  },
  {
   "cell_type": "code",
   "execution_count": 2,
   "metadata": {},
   "outputs": [],
   "source": [
    "# Define parent directories\n",
    "pdata = \"Data/2019-08-26T07:30:47.0\"\n",
    "pinv = \"MetaData/\""
   ]
  },
  {
   "cell_type": "code",
   "execution_count": 3,
   "metadata": {},
   "outputs": [],
   "source": [
    "#ut.read_pyrocko() "
   ]
  },
  {
   "cell_type": "code",
   "execution_count": 4,
   "metadata": {},
   "outputs": [],
   "source": [
    "# Space for custom classes / functions\n"
   ]
  },
  {
   "cell_type": "code",
   "execution_count": 5,
   "metadata": {},
   "outputs": [],
   "source": [
    "# Earthquake origin information\n",
    "olat, olon, odep, otime = 53.784, -2.967, 2.1, UTCDateTime(\"2019-08-26T07:49:24.2\")"
   ]
  },
  {
   "cell_type": "code",
   "execution_count": null,
   "metadata": {},
   "outputs": [],
   "source": [
    "# Read in our data (Vertical Channel)\n",
    "st = read(os.path.join(pdata, '*HHZ*'), format='mseed')\n",
    "# Read in the inventory (station XML file)\n",
    "inv = read_inventory(os.path.join(pinv, \"pnr_inventory.xml\"), \"stationxml\")"
   ]
  },
  {
   "cell_type": "code",
   "execution_count": null,
   "metadata": {},
   "outputs": [],
   "source": [
    "# set the distances for the stream (required for theoreticals)\n",
    "pre.set_stream_distance(st, olat, olon, odep, otime, inventory=inv, dtype=\"mseed\")\n",
    "\n",
    "# set the picks\n",
    "pre.set_picks_from_pyrocko(st, os.path.join(pdata, \"2019-08-26T07:30:47.000000.picks\"))\n",
    "\n",
    "# remove the traces with no p-pick \n",
    "for tr in st:\n",
    "    try:\n",
    "        tr.stats['p_time']\n",
    "    except KeyError:\n",
    "        st.remove(tr)"
   ]
  },
  {
   "cell_type": "code",
   "execution_count": null,
   "metadata": {},
   "outputs": [],
   "source": [
    "# pre-process\n",
    "st.detrend(\"linear\")\n",
    "st.detrend(\"demean\")\n",
    "st.taper(0.05)\n",
    "st.remove_response(inv)"
   ]
  },
  {
   "cell_type": "code",
   "execution_count": null,
   "metadata": {},
   "outputs": [],
   "source": [
    "# quick sanity check\n",
    "import matplotlib.pyplot as plt\n",
    "for tr in st:\n",
    "    plt.plot(tr.data, label=tr.id)\n",
    "plt.legend()"
   ]
  },
  {
   "cell_type": "code",
   "execution_count": null,
   "metadata": {},
   "outputs": [],
   "source": [
    "st[0].stats"
   ]
  },
  {
   "cell_type": "code",
   "execution_count": null,
   "metadata": {},
   "outputs": [],
   "source": [
    "ut.plot_traces(st.copy(), plot_theoreticals=True, conv=1)"
   ]
  },
  {
   "cell_type": "code",
   "execution_count": null,
   "metadata": {},
   "outputs": [],
   "source": [
    "sig = pre.get_signal(st, pre.cut_p, bf=0, raf=0.8)\n",
    "noise = pre.get_noise_p(st, sig, bf=1, bshift=0)"
   ]
  },
  {
   "cell_type": "code",
   "execution_count": null,
   "metadata": {},
   "outputs": [],
   "source": [
    "ut.plot_traces(st.copy(), plot_windows=True, conv=1, sig=sig, noise=noise)"
   ]
  },
  {
   "cell_type": "markdown",
   "metadata": {},
   "source": [
    "# PART 2 - Process Spectra"
   ]
  },
  {
   "cell_type": "markdown",
   "metadata": {},
   "source": [
    "Now the hard work is done, SpecMod will do the heavy lifting of spectral analysis for you.\n",
    "This section will cover:\n",
    " 1. creating spectra from the time series data you created earlier (ObsPy streams)\n",
    " 2. saving the event spectra\n",
    " 3. data manipulation (power spectra to amplitude, time integration/differentiation)\n",
    " 5. visualisation"
   ]
  },
  {
   "cell_type": "code",
   "execution_count": null,
   "metadata": {},
   "outputs": [],
   "source": [
    "# import the spectral module to calculate spectra from signal and noise windows\n",
    "os.chdir(\"../\")\n",
    "import specmod.Spectral as sp\n",
    "os.chdir(\"Tutorial\")"
   ]
  },
  {
   "cell_type": "code",
   "execution_count": null,
   "metadata": {},
   "outputs": [],
   "source": [
    "outpdir = \"Spectra/\"\n"
   ]
  },
  {
   "cell_type": "code",
   "execution_count": null,
   "metadata": {},
   "outputs": [],
   "source": [
    "spectra = sp.Spectra.from_streams(sig, noise, quadratic=True, number_of_tapers=5)"
   ]
  },
  {
   "cell_type": "markdown",
   "metadata": {},
   "source": [
    "The spectra are computed using a multi-taper approach (Prieto, G. A., R. L. Parker, F. L. Vernon. (2009))"
   ]
  },
  {
   "cell_type": "code",
   "execution_count": null,
   "metadata": {},
   "outputs": [],
   "source": [
    "spectra.psd_to_amp() # change from PSD to AMP\n",
    "spectra.quick_vis()"
   ]
  },
  {
   "cell_type": "markdown",
   "metadata": {},
   "source": [
    "Note that the optimal signal bandwidth has been pre-calculated where signal-to-noise-ratio >= 3. *BEWARE FEATURE IS BUGGY SOMETIMES*"
   ]
  },
  {
   "cell_type": "markdown",
   "metadata": {},
   "source": [
    "You can currently save the spectra out to a binary format called 'Pickle'."
   ]
  },
  {
   "cell_type": "code",
   "execution_count": null,
   "metadata": {},
   "outputs": [],
   "source": [
    "# save the spectra \n",
    "spectra.write_spectra(os.path.join(outpdir, \"2019-08-26T07:30:47.0\"), spectra, method='pickle')\n",
    "os.listdir(outpdir) # list the directory for proof!"
   ]
  },
  {
   "cell_type": "markdown",
   "metadata": {},
   "source": [
    "You MUST be careful when reading pickle files. Only read ones that you made or know who made them."
   ]
  },
  {
   "cell_type": "code",
   "execution_count": null,
   "metadata": {},
   "outputs": [],
   "source": [
    "spectra = sp.Spectra.read_spectra(os.path.join(outpdir, \"2019-08-26T07:30:47.0\"+\".spec\"), method='pickle', skip_warning=True)"
   ]
  },
  {
   "cell_type": "markdown",
   "metadata": {},
   "source": [
    "You can integrate to displacement easily. Assuming you removed the response to ground velocity, integrate once."
   ]
  },
  {
   "cell_type": "code",
   "execution_count": null,
   "metadata": {},
   "outputs": [],
   "source": [
    "# you can integrate\n",
    "spectra.inte()\n",
    "spectra.quick_vis()"
   ]
  },
  {
   "cell_type": "markdown",
   "metadata": {},
   "source": [
    "You can go back easily!"
   ]
  },
  {
   "cell_type": "code",
   "execution_count": null,
   "metadata": {},
   "outputs": [],
   "source": [
    "spectra = sp.Spectra.read_spectra(os.path.join(outpdir, \"2019-08-26T07:30:47.0\"+\".spec\"), method='pickle', skip_warning=True)\n",
    "spectra.quick_vis()"
   ]
  },
  {
   "cell_type": "markdown",
   "metadata": {},
   "source": [
    "# PART 3 - Modeling Spectra\n",
    "\n",
    "## The part you've been waiting for!"
   ]
  },
  {
   "cell_type": "code",
   "execution_count": null,
   "metadata": {},
   "outputs": [],
   "source": [
    "# import the spectral module to calculate spectra from signal and noise windows\n",
    "os.chdir(\"../\")\n",
    "import specmod.Fitting as fit\n",
    "import specmod.Models as mod\n",
    "os.chdir(\"Tutorial\")"
   ]
  },
  {
   "cell_type": "markdown",
   "metadata": {},
   "source": [
    "Spectral Fitting is a little more involved, right now only simple models can be fit:\n",
    "\n",
    "$A(f) = \\frac{{\\Omega_0}} {(1+(f/f_c)^\\gamma)^{\\gamma n}}*\\exp(-\\pi f t^*)$, where the free parameters are $\\Omega_0$, $f_c$ and $t^*$."
   ]
  },
  {
   "cell_type": "markdown",
   "metadata": {},
   "source": [
    "First, create a guess for those parameters for each spectrum. Conveniently, I have included a function to help you with this...\n"
   ]
  },
  {
   "cell_type": "code",
   "execution_count": null,
   "metadata": {},
   "outputs": [],
   "source": [
    "guess = fit.FitSpectra.create_simple_guess(spectra)"
   ]
  },
  {
   "cell_type": "markdown",
   "metadata": {},
   "source": [
    "This next step will initialse the fitting process."
   ]
  },
  {
   "cell_type": "code",
   "execution_count": null,
   "metadata": {},
   "outputs": [],
   "source": [
    "fits = fit.FitSpectra(spectra, mod.simple_model, guess)\n",
    "fits.set_bounds('ts', min=0.0001) # you can set bounds for parameters (not sensible to have a ts < 0)"
   ]
  },
  {
   "cell_type": "code",
   "execution_count": null,
   "metadata": {},
   "outputs": [],
   "source": []
  },
  {
   "cell_type": "markdown",
   "metadata": {},
   "source": [
    "Then we will fit the spectra. For this we will use Powell's minimisation. \n",
    "The advantage of using the lmfit package is that it supports many search methods.\n",
    "Check the docs for lmfit for more info!"
   ]
  },
  {
   "cell_type": "code",
   "execution_count": null,
   "metadata": {},
   "outputs": [],
   "source": [
    "fits.fit_spectra(method='powell')"
   ]
  },
  {
   "cell_type": "markdown",
   "metadata": {},
   "source": [
    "Visualise the fits."
   ]
  },
  {
   "cell_type": "code",
   "execution_count": null,
   "metadata": {},
   "outputs": [],
   "source": [
    "fits.quick_vis()"
   ]
  },
  {
   "cell_type": "markdown",
   "metadata": {},
   "source": [
    "Then inspect the output!"
   ]
  },
  {
   "cell_type": "code",
   "execution_count": null,
   "metadata": {},
   "outputs": [],
   "source": [
    "fits.table"
   ]
  },
  {
   "cell_type": "markdown",
   "metadata": {},
   "source": [
    "Finally, save the output!"
   ]
  },
  {
   "cell_type": "code",
   "execution_count": null,
   "metadata": {},
   "outputs": [],
   "source": [
    "fits.write_flatfile(os.path.join(outpdir, \"FlatFiles\", fits.spectra.event + \".csv\"), fits)"
   ]
  },
  {
   "cell_type": "code",
   "execution_count": null,
   "metadata": {},
   "outputs": [],
   "source": [
    "os.listdir(os.path.join(outpdir, \"FlatFiles\"))"
   ]
  },
  {
   "cell_type": "code",
   "execution_count": null,
   "metadata": {},
   "outputs": [],
   "source": []
  }
 ],
 "metadata": {
  "kernelspec": {
   "display_name": "Python 3",
   "language": "python",
   "name": "python3"
  },
  "language_info": {
   "codemirror_mode": {
    "name": "ipython",
    "version": 3
   },
   "file_extension": ".py",
   "mimetype": "text/x-python",
   "name": "python",
   "nbconvert_exporter": "python",
   "pygments_lexer": "ipython3",
   "version": "3.7.6"
  }
 },
 "nbformat": 4,
 "nbformat_minor": 2
}
